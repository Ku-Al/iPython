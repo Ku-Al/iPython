{
 "metadata": {
  "name": "",
  "signature": "sha256:7dab3f52a72f3bef70040884b03034ca5a5017d0f56884cb89cf9b457f20aefb"
 },
 "nbformat": 3,
 "nbformat_minor": 0,
 "worksheets": [
  {
   "cells": [
    {
     "cell_type": "code",
     "collapsed": false,
     "input": [
      "import pandas as pd\n",
      "import string\n",
      "import csv\n",
      "\n",
      "file_i = \"C:\\work\\python\\street\\Shop_Ua_translated Display_class.xlsx\"\n",
      "file_o = \"no_cp_Shop_Ua_translated Display_class.xlsx\"\n",
      "\n",
      "list_gov = []"
     ],
     "language": "python",
     "metadata": {},
     "outputs": [],
     "prompt_number": 93
    },
    {
     "cell_type": "code",
     "collapsed": false,
     "input": [
      "data = pd.read_excel(file_i, u'Sheet1', header=0, parse_cols=\"A:K\", skip_footer=1)"
     ],
     "language": "python",
     "metadata": {},
     "outputs": [],
     "prompt_number": 96
    },
    {
     "cell_type": "code",
     "collapsed": false,
     "input": [
      "data.head()"
     ],
     "language": "python",
     "metadata": {},
     "outputs": [
      {
       "html": [
        "<div style=\"max-height:1000px;max-width:1500px;overflow:auto;\">\n",
        "<table border=\"1\" class=\"dataframe\">\n",
        "  <thead>\n",
        "    <tr style=\"text-align: right;\">\n",
        "      <th></th>\n",
        "      <th>NMAPS_ID</th>\n",
        "      <th>Unnamed: 1</th>\n",
        "      <th>\u0438\u0441\u0445\u043e\u0434\u043d\u043e\u0435 \u043d\u0430\u0437\u0432\u0430\u043d\u0438\u0435</th>\n",
        "      <th>Unnamed: 3</th>\n",
        "      <th>\u0430\u0432\u0442\u043e\u043c\u0430\u0442\u0438\u0447\u0435\u0441\u043a\u0438\u0439 \u043f\u0435\u0440\u0435\u0432\u043e\u0434</th>\n",
        "      <th>\u0438\u0441\u0445\u043e\u0434\u043d\u043e\u0435 \u043f\u043e\u043b\u043d\u043e\u0435 \u043d\u0430\u0437\u0432\u0430\u043d\u0438\u0435</th>\n",
        "      <th>\u0441\u0438\u043d\u043e\u043d\u0438\u043c</th>\n",
        "      <th>Country</th>\n",
        "      <th>\u0423\u043a\u0440\u0430\u0438\u043d\u0441\u043a\u043e\u0435 \u0438\u0441\u0445\u043e\u0434\u043d\u043e\u0435 \u0438\u043c\u044f</th>\n",
        "      <th>Display_class</th>\n",
        "      <th>Tags</th>\n",
        "    </tr>\n",
        "  </thead>\n",
        "  <tbody>\n",
        "    <tr>\n",
        "      <th>0</th>\n",
        "      <td>  1266816</td>\n",
        "      <td> 0</td>\n",
        "      <td> Metro</td>\n",
        "      <td> 1</td>\n",
        "      <td> Metro</td>\n",
        "      <td> Metro Cash&amp;Carry</td>\n",
        "      <td> NaN</td>\n",
        "      <td> Ukr</td>\n",
        "      <td> NaN</td>\n",
        "      <td> 4</td>\n",
        "      <td> \u0433\u0438\u043f\u0435\u0440\u043c\u0430\u0440\u043a\u0435\u0442, \u0442\u043e\u0440\u0433\u043e\u0432\u0430\u044f \u0441\u0435\u0442\u044c</td>\n",
        "    </tr>\n",
        "    <tr>\n",
        "      <th>1</th>\n",
        "      <td>  2190138</td>\n",
        "      <td> 1</td>\n",
        "      <td> Metro</td>\n",
        "      <td> 1</td>\n",
        "      <td> Metro</td>\n",
        "      <td> Metro Cash&amp;Carry</td>\n",
        "      <td> NaN</td>\n",
        "      <td> Ukr</td>\n",
        "      <td> NaN</td>\n",
        "      <td> 4</td>\n",
        "      <td> \u0433\u0438\u043f\u0435\u0440\u043c\u0430\u0440\u043a\u0435\u0442, \u0442\u043e\u0440\u0433\u043e\u0432\u0430\u044f \u0441\u0435\u0442\u044c</td>\n",
        "    </tr>\n",
        "    <tr>\n",
        "      <th>2</th>\n",
        "      <td> 18540694</td>\n",
        "      <td> 2</td>\n",
        "      <td> Metro</td>\n",
        "      <td> 1</td>\n",
        "      <td> Metro</td>\n",
        "      <td> Metro Cash&amp;Carry</td>\n",
        "      <td> NaN</td>\n",
        "      <td> Ukr</td>\n",
        "      <td> NaN</td>\n",
        "      <td> 4</td>\n",
        "      <td> \u0433\u0438\u043f\u0435\u0440\u043c\u0430\u0440\u043a\u0435\u0442, \u0442\u043e\u0440\u0433\u043e\u0432\u0430\u044f \u0441\u0435\u0442\u044c</td>\n",
        "    </tr>\n",
        "    <tr>\n",
        "      <th>3</th>\n",
        "      <td> 18232886</td>\n",
        "      <td> 3</td>\n",
        "      <td> Metro</td>\n",
        "      <td> 1</td>\n",
        "      <td> Metro</td>\n",
        "      <td> Metro Cash&amp;Carry</td>\n",
        "      <td> NaN</td>\n",
        "      <td> Ukr</td>\n",
        "      <td> NaN</td>\n",
        "      <td> 4</td>\n",
        "      <td> \u0433\u0438\u043f\u0435\u0440\u043c\u0430\u0440\u043a\u0435\u0442, \u0442\u043e\u0440\u0433\u043e\u0432\u0430\u044f \u0441\u0435\u0442\u044c</td>\n",
        "    </tr>\n",
        "    <tr>\n",
        "      <th>4</th>\n",
        "      <td>   126566</td>\n",
        "      <td> 4</td>\n",
        "      <td> Metro</td>\n",
        "      <td> 1</td>\n",
        "      <td> Metro</td>\n",
        "      <td> Metro Cash&amp;Carry</td>\n",
        "      <td> NaN</td>\n",
        "      <td> Ukr</td>\n",
        "      <td> NaN</td>\n",
        "      <td> 4</td>\n",
        "      <td> \u0433\u0438\u043f\u0435\u0440\u043c\u0430\u0440\u043a\u0435\u0442, \u0442\u043e\u0440\u0433\u043e\u0432\u0430\u044f \u0441\u0435\u0442\u044c</td>\n",
        "    </tr>\n",
        "  </tbody>\n",
        "</table>\n",
        "</div>"
       ],
       "metadata": {},
       "output_type": "pyout",
       "prompt_number": 97,
       "text": [
        "   NMAPS_ID  Unnamed: 1 \u0438\u0441\u0445\u043e\u0434\u043d\u043e\u0435 \u043d\u0430\u0437\u0432\u0430\u043d\u0438\u0435  Unnamed: 3 \u0430\u0432\u0442\u043e\u043c\u0430\u0442\u0438\u0447\u0435\u0441\u043a\u0438\u0439 \u043f\u0435\u0440\u0435\u0432\u043e\u0434  \\\n",
        "0   1266816           0             Metro           1                  Metro   \n",
        "1   2190138           1             Metro           1                  Metro   \n",
        "2  18540694           2             Metro           1                  Metro   \n",
        "3  18232886           3             Metro           1                  Metro   \n",
        "4    126566           4             Metro           1                  Metro   \n",
        "\n",
        "  \u0438\u0441\u0445\u043e\u0434\u043d\u043e\u0435 \u043f\u043e\u043b\u043d\u043e\u0435 \u043d\u0430\u0437\u0432\u0430\u043d\u0438\u0435 \u0441\u0438\u043d\u043e\u043d\u0438\u043c Country \u0423\u043a\u0440\u0430\u0438\u043d\u0441\u043a\u043e\u0435 \u0438\u0441\u0445\u043e\u0434\u043d\u043e\u0435 \u0438\u043c\u044f  \\\n",
        "0         Metro Cash&Carry     NaN     Ukr                     NaN   \n",
        "1         Metro Cash&Carry     NaN     Ukr                     NaN   \n",
        "2         Metro Cash&Carry     NaN     Ukr                     NaN   \n",
        "3         Metro Cash&Carry     NaN     Ukr                     NaN   \n",
        "4         Metro Cash&Carry     NaN     Ukr                     NaN   \n",
        "\n",
        "   Display_class                        Tags  \n",
        "0              4  \u0433\u0438\u043f\u0435\u0440\u043c\u0430\u0440\u043a\u0435\u0442, \u0442\u043e\u0440\u0433\u043e\u0432\u0430\u044f \u0441\u0435\u0442\u044c  \n",
        "1              4  \u0433\u0438\u043f\u0435\u0440\u043c\u0430\u0440\u043a\u0435\u0442, \u0442\u043e\u0440\u0433\u043e\u0432\u0430\u044f \u0441\u0435\u0442\u044c  \n",
        "2              4  \u0433\u0438\u043f\u0435\u0440\u043c\u0430\u0440\u043a\u0435\u0442, \u0442\u043e\u0440\u0433\u043e\u0432\u0430\u044f \u0441\u0435\u0442\u044c  \n",
        "3              4  \u0433\u0438\u043f\u0435\u0440\u043c\u0430\u0440\u043a\u0435\u0442, \u0442\u043e\u0440\u0433\u043e\u0432\u0430\u044f \u0441\u0435\u0442\u044c  \n",
        "4              4  \u0433\u0438\u043f\u0435\u0440\u043c\u0430\u0440\u043a\u0435\u0442, \u0442\u043e\u0440\u0433\u043e\u0432\u0430\u044f \u0441\u0435\u0442\u044c  "
       ]
      }
     ],
     "prompt_number": 97
    },
    {
     "cell_type": "code",
     "collapsed": false,
     "input": [
      "Dtmp = pd.DataFrame([((str(i[0].upper()) + str(i[1:]))) for i in data[u\"\u0438\u0441\u0445\u043e\u0434\u043d\u043e\u0435 \u0438\u043c\u044f\"]])\n",
      "print Dtmp\n",
      "#data[u\"\u0438\u0441\u0445\u043e\u0434\u043d\u043e\u0435 \u0438\u043c\u044f\"] = data[u\"\u0438\u0441\u0445\u043e\u0434\u043d\u043e\u0435 \u0438\u043c\u044f\"][0].upper() + data[u\"\u0438\u0441\u0445\u043e\u0434\u043d\u043e\u0435 \u0438\u043c\u044f\"][1:]"
     ],
     "language": "python",
     "metadata": {},
     "outputs": [
      {
       "ename": "NameError",
       "evalue": "name 'encode' is not defined",
       "output_type": "pyerr",
       "traceback": [
        "\u001b[1;31m---------------------------------------------------------------------------\u001b[0m\n\u001b[1;31mNameError\u001b[0m                                 Traceback (most recent call last)",
        "\u001b[1;32m<ipython-input-92-99694f02f544>\u001b[0m in \u001b[0;36m<module>\u001b[1;34m()\u001b[0m\n\u001b[1;32m----> 1\u001b[1;33m \u001b[0mDtmp\u001b[0m \u001b[1;33m=\u001b[0m \u001b[0mpd\u001b[0m\u001b[1;33m.\u001b[0m\u001b[0mDataFrame\u001b[0m\u001b[1;33m(\u001b[0m\u001b[1;33m[\u001b[0m\u001b[1;33m(\u001b[0m\u001b[0mencode\u001b[0m\u001b[1;33m(\u001b[0m\u001b[0mstr\u001b[0m\u001b[1;33m(\u001b[0m\u001b[0mi\u001b[0m\u001b[1;33m[\u001b[0m\u001b[1;36m0\u001b[0m\u001b[1;33m]\u001b[0m\u001b[1;33m.\u001b[0m\u001b[0mupper\u001b[0m\u001b[1;33m(\u001b[0m\u001b[1;33m)\u001b[0m\u001b[1;33m)\u001b[0m \u001b[1;33m+\u001b[0m \u001b[0mstr\u001b[0m\u001b[1;33m(\u001b[0m\u001b[0mi\u001b[0m\u001b[1;33m[\u001b[0m\u001b[1;36m1\u001b[0m\u001b[1;33m:\u001b[0m\u001b[1;33m]\u001b[0m\u001b[1;33m)\u001b[0m\u001b[1;33m)\u001b[0m\u001b[1;33m)\u001b[0m \u001b[1;32mfor\u001b[0m \u001b[0mi\u001b[0m \u001b[1;32min\u001b[0m \u001b[0mdata\u001b[0m\u001b[1;33m[\u001b[0m\u001b[1;34mu\"\u0438\u0441\u0445\u043e\u0434\u043d\u043e\u0435 \u0438\u043c\u044f\"\u001b[0m\u001b[1;33m]\u001b[0m\u001b[1;33m]\u001b[0m\u001b[1;33m)\u001b[0m\u001b[1;33m\u001b[0m\u001b[0m\n\u001b[0m\u001b[0;32m      2\u001b[0m \u001b[1;32mprint\u001b[0m \u001b[0mDtmp\u001b[0m\u001b[1;33m\u001b[0m\u001b[0m\n\u001b[0;32m      3\u001b[0m \u001b[1;31m#data[u\"\u0438\u0441\u0445\u043e\u0434\u043d\u043e\u0435 \u0438\u043c\u044f\"] = data[u\"\u0438\u0441\u0445\u043e\u0434\u043d\u043e\u0435 \u0438\u043c\u044f\"][0].upper() + data[u\"\u0438\u0441\u0445\u043e\u0434\u043d\u043e\u0435 \u0438\u043c\u044f\"][1:]\u001b[0m\u001b[1;33m\u001b[0m\u001b[1;33m\u001b[0m\u001b[0m\n",
        "\u001b[1;31mNameError\u001b[0m: name 'encode' is not defined"
       ]
      }
     ],
     "prompt_number": 92
    },
    {
     "cell_type": "heading",
     "level": 4,
     "metadata": {},
     "source": [
      "data.info()\n",
      "data.describe()"
     ]
    },
    {
     "cell_type": "code",
     "collapsed": false,
     "input": [
      "data[u\"\u0438\u0441\u0445\u043e\u0434\u043d\u043e\u0435 \u043d\u0430\u0437\u0432\u0430\u043d\u0438\u0435\"].drop_duplicates().count() \n",
      "dt = pd.DataFrame(data.drop_duplicates([u'\u0438\u0441\u0445\u043e\u0434\u043d\u043e\u0435 \u043d\u0430\u0437\u0432\u0430\u043d\u0438\u0435'])) # \u0443\u0434\u0430\u043b\u044f\u0435\u043c \u0441\u0442\u0440\u043e\u043a\u0438 \u0441 \u0434\u0443\u0431\u043b\u0438\u043a\u0430\u0442\u044b \u0432 \u0441\u0442\u043e\u043b\u0431\u0446\u0435 '\u0438\u0441\u0445\u043e\u0434\u043d\u043e\u0435 \u0438\u043c\u044f'\n"
     ],
     "language": "python",
     "metadata": {},
     "outputs": [],
     "prompt_number": 98
    },
    {
     "cell_type": "code",
     "collapsed": false,
     "input": [
      "writer = pd.ExcelWriter(file_o, datetime_format='yyyy-mm-dd')\n",
      "dt.to_excel(writer, sheet_name='Sheet1')\n",
      "writer.save()"
     ],
     "language": "python",
     "metadata": {},
     "outputs": [],
     "prompt_number": 99
    },
    {
     "cell_type": "code",
     "collapsed": false,
     "input": [],
     "language": "python",
     "metadata": {},
     "outputs": []
    }
   ],
   "metadata": {}
  }
 ]
}