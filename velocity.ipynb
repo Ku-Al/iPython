{
 "metadata": {
  "name": "",
  "signature": "sha256:44c2fe2bcc52f21222e863036ba6f610a2d16aab44ee9cc3ffd843574a4e8ff1"
 },
 "nbformat": 3,
 "nbformat_minor": 0,
 "worksheets": [
  {
   "cells": [
    {
     "cell_type": "code",
     "collapsed": false,
     "input": [
      "import pandas as pd\n",
      "import os\n",
      "%pylab inline\n",
      "\n",
      "DRIVERS_DATA_DIR = \"D:\\dd\\drivers\"\n",
      "VELOCITY_FILE = \"features/velocity.csv\""
     ],
     "language": "python",
     "metadata": {},
     "outputs": []
    },
    {
     "cell_type": "code",
     "collapsed": false,
     "input": [
      "def calculate_driver_trip_length(driver, trip):\n",
      "    v = []\n",
      "    path = os.path.join(DRIVERS_DATA_DIR, str(driver), '{}.csv'.format(str(trip)))\n",
      "    with open(path, 'r') as fl:\n",
      "        data = pd.read_csv(fl)\n",
      "        i = 0\n",
      "        while i < (np.size(data.x)-1):\n",
      "            #k = sqrt((square(data.x[i+1] - data.x[i])) + (square(data.y[i+1] - data.y[i])))\n",
      "            v.append(math.hypot((data.x[i+1] - data.x[i]),(data.y[i+1] - data.y[i])))\n",
      "\n",
      "#            v.append(sqrt((data.x[i+1] - data.x[i])**2) + (data.y[i+1] - data.y[i])**2)\n",
      "            i+=1\n",
      "    #print np.mean(v)\n",
      "    #print v\n",
      "    return np.mean(v), np.median(v), np.std(v)\n",
      "\n",
      "\n",
      "lf = os.path.join(VELOCITY_FILE)\n",
      "with open(lf, 'w') as f:\n",
      "    for dirpath, dirnames, filenames in os.walk(DRIVERS_DATA_DIR):\n",
      "        driver = dirpath.split('/')[-1]\n",
      "        #print 'driver: {}'.format(driver)\n",
      "        f.write('driver_trip,v_mean,v_median,v_std')\n",
      "        for trip_file in filenames:\n",
      "            trip = trip_file.split('.')[0]\n",
      "            #print '{}_{}'.format(driver, trip)\n",
      "            v_mean, v_median, v_st = calculate_driver_trip_length(driver, trip)\n",
      "            print driver, trip, v_mean, v_median, v_st\n",
      "            f.write('{},{},{},{},{} '.format(driver, trip, str(v_mean),str(v_median), str(v_st) ) + '\\n')\n",
      "         \n",
      "           "
     ],
     "language": "python",
     "metadata": {},
     "outputs": [
      {
       "output_type": "stream",
       "stream": "stdout",
       "text": [
        "D:\\dd\\drivers\\drivers\\1 1 16.5376284818 19.4552038553 7.29383934957\n",
        "D:\\dd\\drivers\\drivers\\1 10 3.5280785364 1.10453610172 3.85788187459\n",
        "D:\\dd\\drivers\\drivers\\1"
       ]
      },
      {
       "output_type": "stream",
       "stream": "stdout",
       "text": [
        " 100 6.69161075343 7.37393647893 3.76019742235\n",
        "D:\\dd\\drivers\\drivers\\1"
       ]
      },
      {
       "output_type": "stream",
       "stream": "stdout",
       "text": [
        " 101 13.4258534487 13.6883161857 5.06193649599\n",
        "D:\\dd\\drivers\\drivers\\1"
       ]
      },
      {
       "output_type": "stream",
       "stream": "stdout",
       "text": [
        " 102 9.60750855961 8.13572285681 20.3988242755\n",
        "D:\\dd\\drivers\\drivers\\1"
       ]
      },
      {
       "output_type": "stream",
       "stream": "stdout",
       "text": [
        " 103 12.6934923284 10.8078675047 11.5809032991\n",
        "D:\\dd\\drivers\\drivers\\1 104 7.05770848963 6.83081254318 6.25191005484\n",
        "D:\\dd\\drivers\\drivers\\1"
       ]
      },
      {
       "output_type": "stream",
       "stream": "stdout",
       "text": [
        " 105 6.55097198521 8.34885042281 5.27475245597\n",
        "D:\\dd\\drivers\\drivers\\1"
       ]
      },
      {
       "output_type": "stream",
       "stream": "stdout",
       "text": [
        " 106 0.0979461148069 0.0 0.239134522092\n",
        "D:\\dd\\drivers\\drivers\\1"
       ]
      },
      {
       "output_type": "stream",
       "stream": "stdout",
       "text": [
        " 107 12.3988961847 11.5117247544 9.53191771718\n",
        "D:\\dd\\drivers\\drivers\\1"
       ]
      },
      {
       "output_type": "stream",
       "stream": "stdout",
       "text": [
        " 108 13.8014066218 12.4326183887 10.6069547403\n",
        "D:\\dd\\drivers\\drivers\\1"
       ]
      },
      {
       "output_type": "stream",
       "stream": "stdout",
       "text": [
        " 109 13.4610327866 15.9607329729 6.7404124815\n",
        "D:\\dd\\drivers\\drivers\\1"
       ]
      },
      {
       "output_type": "stream",
       "stream": "stdout",
       "text": [
        " 11 3.52307372784 1.08166538264 4.67564899372\n",
        "D:\\dd\\drivers\\drivers\\1 110 4.04429175321 2.73002929482 4.27234916326\n",
        "D:\\dd\\drivers\\drivers\\1"
       ]
      },
      {
       "output_type": "stream",
       "stream": "stdout",
       "text": [
        " 111 4.67280117193 5.28031618578 3.96413266835\n",
        "D:\\dd\\drivers\\drivers\\1"
       ]
      },
      {
       "output_type": "stream",
       "stream": "stdout",
       "text": [
        " 112 3.28947301379 0.22360679775 4.30406904408\n",
        "D:\\dd\\drivers\\drivers\\1"
       ]
      },
      {
       "output_type": "stream",
       "stream": "stdout",
       "text": [
        " 113 12.5754355383 9.64209520799 10.3991933526\n",
        "D:\\dd\\drivers\\drivers\\1"
       ]
      },
      {
       "output_type": "stream",
       "stream": "stdout",
       "text": [
        " 114 2.10746397555 0.2 2.9402804251\n",
        "D:\\dd\\drivers\\drivers\\1"
       ]
      },
      {
       "output_type": "stream",
       "stream": "stdout",
       "text": [
        " 115 9.47440951992 9.01387818866 8.79166722666\n",
        "D:\\dd\\drivers\\drivers\\1"
       ]
      },
      {
       "output_type": "stream",
       "stream": "stdout",
       "text": [
        " 116 5.19761080121 5.76281181369 4.40476683978\n",
        "D:\\dd\\drivers\\drivers\\1"
       ]
      },
      {
       "output_type": "stream",
       "stream": "stdout",
       "text": [
        " 117 4.30485680303 2.18403296678 4.7808642503\n",
        "D:\\dd\\drivers\\drivers\\1"
       ]
      },
      {
       "output_type": "stream",
       "stream": "stdout",
       "text": [
        " 118 3.91429098816 3.76400227286 3.57300339642\n",
        "D:\\dd\\drivers\\drivers\\1"
       ]
      },
      {
       "output_type": "stream",
       "stream": "stdout",
       "text": [
        " 119 10.9223842447 9.46414285606 7.83638747837\n",
        "D:\\dd\\drivers\\drivers\\1 12 7.78878191775 8.33844436715 4.46712049244\n",
        "D:\\dd\\drivers\\drivers\\1"
       ]
      },
      {
       "output_type": "stream",
       "stream": "stdout",
       "text": [
        " 120 14.3510897121 12.6073317077 18.5270334379\n",
        "D:\\dd\\drivers\\drivers\\1 121 0.282762875702 0.0 0.810508339773\n",
        "D:\\dd\\drivers\\drivers\\1"
       ]
      },
      {
       "output_type": "stream",
       "stream": "stdout",
       "text": [
        " 122 3.04248093929 0.4472135955 4.25863451847\n",
        "D:\\dd\\drivers\\drivers\\1"
       ]
      },
      {
       "output_type": "stream",
       "stream": "stdout",
       "text": [
        " 123 0.0702426188051 0.0 0.213756552064\n",
        "D:\\dd\\drivers\\drivers\\1"
       ]
      },
      {
       "output_type": "stream",
       "stream": "stdout",
       "text": [
        " 124 7.53333452733 7.60065786626 6.06335603211\n",
        "D:\\dd\\drivers\\drivers\\1"
       ]
      },
      {
       "output_type": "stream",
       "stream": "stdout",
       "text": [
        " 125 11.3640760464 11.5275629023 8.04115776706\n",
        "D:\\dd\\drivers\\drivers\\1"
       ]
      },
      {
       "output_type": "stream",
       "stream": "stdout",
       "text": [
        " 126 10.6528985381 9.61353212924 8.82550525257\n",
        "D:\\dd\\drivers\\drivers\\1"
       ]
      },
      {
       "output_type": "stream",
       "stream": "stdout",
       "text": [
        " 127 8.62672103104 8.4086221023 15.0472314797\n",
        "D:\\dd\\drivers\\drivers\\1"
       ]
      },
      {
       "output_type": "stream",
       "stream": "stdout",
       "text": [
        " 128 6.54027513911 6.96488704975 4.4233052695\n",
        "D:\\dd\\drivers\\drivers\\1 129 7.16216933455 7.20624728968 5.6285909472\n",
        "D:\\dd\\drivers\\drivers\\1"
       ]
      },
      {
       "output_type": "stream",
       "stream": "stdout",
       "text": [
        " 13 2.16250111734 0.854400374532 3.06238154942\n",
        "D:\\dd\\drivers\\drivers\\1 130 6.22896649523 6.84030753081 4.30536097414\n",
        "D:\\dd\\drivers\\drivers\\1"
       ]
      },
      {
       "output_type": "stream",
       "stream": "stdout",
       "text": [
        " 131 5.05821506414 3.4205262753 5.06555689424\n",
        "D:\\dd\\drivers\\drivers\\1"
       ]
      },
      {
       "output_type": "stream",
       "stream": "stdout",
       "text": [
        " 132 8.15649594012 8.13449445264 7.64240643951\n",
        "D:\\dd\\drivers\\drivers\\1"
       ]
      },
      {
       "output_type": "stream",
       "stream": "stdout",
       "text": [
        " 133 0.0649100957299 0.0 0.189173675421\n",
        "D:\\dd\\drivers\\drivers\\1"
       ]
      },
      {
       "output_type": "stream",
       "stream": "stdout",
       "text": [
        " 134 3.5589239585 1.03679683249 4.43953283847\n",
        "D:\\dd\\drivers\\drivers\\1"
       ]
      },
      {
       "output_type": "stream",
       "stream": "stdout",
       "text": [
        " 135 5.37970293228 5.92368128785 4.12925579263\n",
        "D:\\dd\\drivers\\drivers\\1"
       ]
      },
      {
       "output_type": "stream",
       "stream": "stdout",
       "text": [
        " 136 12.5823564724 12.4438608587 21.3436821605\n",
        "D:\\dd\\drivers\\drivers\\1"
       ]
      },
      {
       "output_type": "stream",
       "stream": "stdout",
       "text": [
        " 137 12.7959708769 14.5361618043 8.88475380424\n",
        "D:\\dd\\drivers\\drivers\\1"
       ]
      },
      {
       "output_type": "stream",
       "stream": "stdout",
       "text": [
        " 138 21.658891479 22.9401394939 11.134470429\n",
        "D:\\dd\\drivers\\drivers\\1 139 7.39592436379 8.27332735476 5.26849855259\n",
        "D:\\dd\\drivers\\drivers\\1"
       ]
      },
      {
       "output_type": "stream",
       "stream": "stdout",
       "text": [
        " 14 0.109860067984 0.0 0.27336080966\n",
        "D:\\dd\\drivers\\drivers\\1 140 6.37048246246 6.65732679084 5.27657289233\n",
        "D:\\dd\\drivers\\drivers\\1"
       ]
      },
      {
       "output_type": "stream",
       "stream": "stdout",
       "text": [
        " 141 11.289159986 9.13727969502 9.86886509688\n",
        "D:\\dd\\drivers\\drivers\\1"
       ]
      },
      {
       "output_type": "stream",
       "stream": "stdout",
       "text": [
        " 142 6.43359894761 6.3324560796 5.25298116802\n",
        "D:\\dd\\drivers\\drivers\\1"
       ]
      },
      {
       "output_type": "stream",
       "stream": "stdout",
       "text": [
        " 143 6.5629861431 0.761577310586 8.13456767049\n",
        "D:\\dd\\drivers\\drivers\\1"
       ]
      },
      {
       "output_type": "stream",
       "stream": "stdout",
       "text": [
        " 144 4.32448399858 4.87902901435 3.35872436813\n",
        "D:\\dd\\drivers\\drivers\\1"
       ]
      },
      {
       "output_type": "stream",
       "stream": "stdout",
       "text": [
        " 145 4.11807894741 2.80178514522 4.27273763458\n",
        "D:\\dd\\drivers\\drivers\\1 146 0.0408229465825 0.0 0.158497210765\n",
        "D:\\dd\\drivers\\drivers\\1"
       ]
      },
      {
       "output_type": "stream",
       "stream": "stdout",
       "text": [
        " 147 5.22008195122 2.19544984001 5.83090493824\n",
        "D:\\dd\\drivers\\drivers\\1"
       ]
      },
      {
       "output_type": "stream",
       "stream": "stdout",
       "text": [
        " 148 18.3817562942 20.6073999799 22.1563178905\n",
        "D:\\dd\\drivers\\drivers\\1"
       ]
      },
      {
       "output_type": "stream",
       "stream": "stdout",
       "text": [
        " 149 6.81351334787 6.60302960769 5.90248795969\n",
        "D:\\dd\\drivers\\drivers\\1"
       ]
      },
      {
       "output_type": "stream",
       "stream": "stdout",
       "text": [
        " 15 6.32391060424 6.25538459585 5.22137407798\n",
        "D:\\dd\\drivers\\drivers\\1 150 7.0191840046 7.42428447731 5.15234782341\n",
        "D:\\dd\\drivers\\drivers\\1"
       ]
      },
      {
       "output_type": "stream",
       "stream": "stdout",
       "text": [
        " 151 5.98477433124 4.98076791472 5.35265011942\n",
        "D:\\dd\\drivers\\drivers\\1 152 6.55668844837 6.38340800117 5.84064693258\n",
        "D:\\dd\\drivers\\drivers\\1"
       ]
      },
      {
       "output_type": "stream",
       "stream": "stdout",
       "text": [
        " 153 1.83802756886 0.141421356237 2.51561549582\n",
        "D:\\dd\\drivers\\drivers\\1 154 6.34201729806 6.45736356572 4.41385233704\n",
        "D:\\dd\\drivers\\drivers\\1"
       ]
      },
      {
       "output_type": "stream",
       "stream": "stdout",
       "text": [
        " 155 0.472039435956 0.3 0.506305676019\n",
        "D:\\dd\\drivers\\drivers\\1"
       ]
      },
      {
       "output_type": "stream",
       "stream": "stdout",
       "text": [
        " 156 4.25050329335 1.20415945788 5.13173761406\n",
        "D:\\dd\\drivers\\drivers\\1"
       ]
      },
      {
       "output_type": "stream",
       "stream": "stdout",
       "text": [
        " 157 3.91165645551 1.16619037897 4.44773594991\n",
        "D:\\dd\\drivers\\drivers\\1"
       ]
      },
      {
       "output_type": "stream",
       "stream": "stdout",
       "text": [
        " 158 2.12830899371 0.22360679775 3.45379103431\n",
        "D:\\dd\\drivers\\drivers\\1"
       ]
      },
      {
       "output_type": "stream",
       "stream": "stdout",
       "text": [
        " 159 0.247447972862 0.1 0.412732901639\n",
        "D:\\dd\\drivers\\drivers\\1"
       ]
      },
      {
       "output_type": "stream",
       "stream": "stdout",
       "text": [
        " 16 7.17836973541 8.23771813065 5.20498681585\n",
        "D:\\dd\\drivers\\drivers\\1 160 7.26362228059 8.70057469366 4.85224028767\n",
        "D:\\dd\\drivers\\drivers\\1"
       ]
      },
      {
       "output_type": "stream",
       "stream": "stdout",
       "text": [
        " 161 0.559865058104 0.316227766017 0.520180559\n",
        "D:\\dd\\drivers\\drivers\\1"
       ]
      },
      {
       "output_type": "stream",
       "stream": "stdout",
       "text": [
        " 162 4.95331958276 4.88262224629 4.69455039211\n",
        "D:\\dd\\drivers\\drivers\\1"
       ]
      },
      {
       "output_type": "stream",
       "stream": "stdout",
       "text": [
        " 163 10.042611938 9.24391691871 8.1525977561\n",
        "D:\\dd\\drivers\\drivers\\1"
       ]
      },
      {
       "output_type": "stream",
       "stream": "stdout",
       "text": [
        " 164 8.40605057617 4.42831782115 9.98330498502\n",
        "D:\\dd\\drivers\\drivers\\1"
       ]
      },
      {
       "output_type": "stream",
       "stream": "stdout",
       "text": [
        " 165 3.55895381771 1.20415945788 4.14124660638\n",
        "D:\\dd\\drivers\\drivers\\1 166 4.37911223882 4.62269684675 3.82420694989\n",
        "D:\\dd\\drivers\\drivers\\1"
       ]
      },
      {
       "output_type": "stream",
       "stream": "stdout",
       "text": [
        " 167 9.61695209267 8.50734951489 20.3279839692\n",
        "D:\\dd\\drivers\\drivers\\1"
       ]
      },
      {
       "output_type": "stream",
       "stream": "stdout",
       "text": [
        " 168 5.78969682449 5.71619899484 4.3826069883\n",
        "D:\\dd\\drivers\\drivers\\1 169 0.0525142377257 0.0 0.212179246426\n",
        "D:\\dd\\drivers\\drivers\\1"
       ]
      },
      {
       "output_type": "stream",
       "stream": "stdout",
       "text": [
        " 17 6.36410092493 6.55133574166 4.41597251735\n",
        "D:\\dd\\drivers\\drivers\\1"
       ]
      },
      {
       "output_type": "stream",
       "stream": "stdout",
       "text": [
        " 170 6.35939356116 6.29364759102 4.60637576916\n",
        "D:\\dd\\drivers\\drivers\\1 171 6.67002743174 6.80955211449 5.24461000074\n",
        "D:\\dd\\drivers\\drivers\\1"
       ]
      },
      {
       "output_type": "stream",
       "stream": "stdout",
       "text": [
        " 172 2.55517215012 0.2 3.76666969368\n",
        "D:\\dd\\drivers\\drivers\\1"
       ]
      },
      {
       "output_type": "stream",
       "stream": "stdout",
       "text": [
        " 173 13.1848016413 16.530574141 7.56034681174\n",
        "D:\\dd\\drivers\\drivers\\1"
       ]
      },
      {
       "output_type": "stream",
       "stream": "stdout",
       "text": [
        " 174 7.19229497219 8.5 5.76835129964\n",
        "D:\\dd\\drivers\\drivers\\1"
       ]
      },
      {
       "output_type": "stream",
       "stream": "stdout",
       "text": [
        " 175 2.27231156376 0.0 4.08680000393\n",
        "D:\\dd\\drivers\\drivers\\1"
       ]
      },
      {
       "output_type": "stream",
       "stream": "stdout",
       "text": [
        " 176 12.8755022026 11.7014808682 11.2620020007\n",
        "D:\\dd\\drivers\\drivers\\1"
       ]
      },
      {
       "output_type": "stream",
       "stream": "stdout",
       "text": [
        " 177 0.0993261296097 0.0 0.249087730198\n",
        "D:\\dd\\drivers\\drivers\\1"
       ]
      },
      {
       "output_type": "stream",
       "stream": "stdout",
       "text": [
        " 178 5.5947239077 5.66038867923 4.59884005847\n",
        "D:\\dd\\drivers\\drivers\\1"
       ]
      },
      {
       "output_type": "stream",
       "stream": "stdout",
       "text": [
        " 179 1.64519224615 0.0 3.66875087813\n",
        "D:\\dd\\drivers\\drivers\\1"
       ]
      },
      {
       "output_type": "stream",
       "stream": "stdout",
       "text": [
        " 18 9.91809730565 9.74935895328 4.26874164215\n",
        "D:\\dd\\drivers\\drivers\\1 180 6.1016558173 6.40078120232 4.96815901311\n",
        "D:\\dd\\drivers\\drivers\\1"
       ]
      },
      {
       "output_type": "stream",
       "stream": "stdout",
       "text": [
        " 181 5.67415420405 5.96405849019 4.61740294604\n",
        "D:\\dd\\drivers\\drivers\\1"
       ]
      },
      {
       "output_type": "stream",
       "stream": "stdout",
       "text": [
        " 182 7.92624675727 8.51469318296 5.8013744644\n",
        "D:\\dd\\drivers\\drivers\\1"
       ]
      },
      {
       "output_type": "stream",
       "stream": "stdout",
       "text": [
        " 183 8.75917489476 7.01727197764 22.943936161\n",
        "D:\\dd\\drivers\\drivers\\1 184 7.99670555562 7.52493787045 3.49807395503\n",
        "D:\\dd\\drivers\\drivers\\1"
       ]
      },
      {
       "output_type": "stream",
       "stream": "stdout",
       "text": [
        " 185 5.56815970109 5.70219240907 4.49561981746\n",
        "D:\\dd\\drivers\\drivers\\1"
       ]
      },
      {
       "output_type": "stream",
       "stream": "stdout",
       "text": [
        " 186 0.208211135468 0.0 0.41961735909\n",
        "D:\\dd\\drivers\\drivers\\1 187 3.2654503948 "
       ]
      },
      {
       "output_type": "stream",
       "stream": "stdout",
       "text": [
        "1.74642491966 3.29964525391\n",
        "D:\\dd\\drivers\\drivers\\1"
       ]
      },
      {
       "output_type": "stream",
       "stream": "stdout",
       "text": [
        " 188 5.59993594235 4.00062490237 5.65489571858\n",
        "D:\\dd\\drivers\\drivers\\1"
       ]
      },
      {
       "output_type": "stream",
       "stream": "stdout",
       "text": [
        " 189 5.16212467307 5.16670626902 5.13225653051\n",
        "D:\\dd\\drivers\\drivers\\1"
       ]
      },
      {
       "output_type": "stream",
       "stream": "stdout",
       "text": [
        " 19 3.28644686752 0.141421356237 4.64487238857\n",
        "D:\\dd\\drivers\\drivers\\1"
       ]
      },
      {
       "output_type": "stream",
       "stream": "stdout",
       "text": [
        " 190 10.88620731 8.37730142968 9.9914512884\n",
        "D:\\dd\\drivers\\drivers\\1 191 4.13861372198 1.22065556157 4.7409579321\n",
        "D:\\dd\\drivers\\drivers\\1"
       ]
      },
      {
       "output_type": "stream",
       "stream": "stdout",
       "text": [
        " 192 2.46036174415 0.141421356237 3.76280810314\n",
        "D:\\dd\\drivers\\drivers\\1"
       ]
      },
      {
       "output_type": "stream",
       "stream": "stdout",
       "text": [
        " 193 4.82506474281 4.50444225182 4.59440963038\n",
        "D:\\dd\\drivers\\drivers\\1"
       ]
      },
      {
       "output_type": "stream",
       "stream": "stdout",
       "text": [
        " 194 4.77997336905 3.6242092845 4.82895241439\n",
        "D:\\dd\\drivers\\drivers\\1"
       ]
      },
      {
       "output_type": "stream",
       "stream": "stdout",
       "text": [
        " 195 19.3663191216 19.872594194 12.71574848\n",
        "D:\\dd\\drivers\\drivers\\1"
       ]
      },
      {
       "output_type": "stream",
       "stream": "stdout",
       "text": [
        " 196 6.76844540956 7.91580697087 4.75083690149\n",
        "D:\\dd\\drivers\\drivers\\1"
       ]
      },
      {
       "output_type": "stream",
       "stream": "stdout",
       "text": [
        " 197 8.5878220588 6.74166151627 19.5908720019\n",
        "D:\\dd\\drivers\\drivers\\1"
       ]
      },
      {
       "output_type": "stream",
       "stream": "stdout",
       "text": [
        " 198 5.1457056202 4.92288655117 4.67449148539\n",
        "D:\\dd\\drivers\\drivers\\1 199 5.51898168921 5.60802995712 4.88079626416\n",
        "D:\\dd\\drivers\\drivers\\1"
       ]
      },
      {
       "output_type": "stream",
       "stream": "stdout",
       "text": [
        " 2 13.7650991037 12.37436764 10.2010754101\n",
        "D:\\dd\\drivers\\drivers\\1"
       ]
      },
      {
       "output_type": "stream",
       "stream": "stdout",
       "text": [
        " 20 8.07262269146 10.4002386456 5.33578659736\n",
        "D:\\dd\\drivers\\drivers\\1"
       ]
      },
      {
       "output_type": "stream",
       "stream": "stdout",
       "text": [
        " 200 11.0962531508 9.70051545022 19.7048951675\n",
        "D:\\dd\\drivers\\drivers\\1"
       ]
      },
      {
       "output_type": "stream",
       "stream": "stdout",
       "text": [
        " 21 0.200951509718 0.0 0.376660093456\n",
        "D:\\dd\\drivers\\drivers\\1"
       ]
      },
      {
       "output_type": "stream",
       "stream": "stdout",
       "text": [
        " 22 5.06022148316 4.75595768242 4.92379317057\n",
        "D:\\dd\\drivers\\drivers\\1"
       ]
      }
     ]
    },
    {
     "cell_type": "code",
     "collapsed": false,
     "input": [],
     "language": "python",
     "metadata": {},
     "outputs": [],
     "prompt_number": 5
    },
    {
     "cell_type": "code",
     "collapsed": false,
     "input": [],
     "language": "python",
     "metadata": {},
     "outputs": []
    }
   ],
   "metadata": {}
  }
 ]
}