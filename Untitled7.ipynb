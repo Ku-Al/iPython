{
 "metadata": {
  "name": "",
  "signature": "sha256:9e0ddf01589a0074ab70cf7c85f62587379a39f6a92a57d569eba5c531c967dd"
 },
 "nbformat": 3,
 "nbformat_minor": 0,
 "worksheets": [
  {
   "cells": [
    {
     "cell_type": "code",
     "collapsed": false,
     "input": [
      "cd D:\\\\pythone\\\\twitter\\\\python-twitter-1.1\\\\python-twitter-1.1"
     ],
     "language": "python",
     "metadata": {},
     "outputs": [
      {
       "output_type": "stream",
       "stream": "stdout",
       "text": [
        "D:\\pythone\\twitter\\python-twitter-1.1\\python-twitter-1.1\n"
       ]
      }
     ],
     "prompt_number": 6
    },
    {
     "cell_type": "code",
     "collapsed": false,
     "input": [
      "import re, string, time\n",
      "import requests\n",
      "from twython import Twython\n",
      "#import twitter, urllib2\n",
      "from bs4 import BeautifulSoup\n"
     ],
     "language": "python",
     "metadata": {},
     "outputs": [],
     "prompt_number": 10
    },
    {
     "cell_type": "code",
     "collapsed": false,
     "input": [
      "consumer_key = 'LgZBUKl6RpPtpSJzUabo9nljV'\n",
      "consumer_secret = 'JIDgk9kZLbdgPURUDdrWy5eZesFqzIQkolAZKkN1nvvBO2yKac'\n",
      "access_token_key = '2494016923-e6S3GsmGxyr2JZsnjHnkqvzNVbno8TcZ0Ibgzdg'\n",
      "access_token_secret = 'da1ExytDrPNgujY7MhJn7uEiIGFsX8mG3Vn4EiYlCBSI6'\n",
      "#api = twitter.Api(consumer_key, consumer_secret, access_token_key, access_token_secret)\n"
     ],
     "language": "python",
     "metadata": {},
     "outputs": [],
     "prompt_number": 11
    },
    {
     "cell_type": "code",
     "collapsed": false,
     "input": [
      "tw = Twython(app_key=consumer_key, \n",
      "            app_secret=consumer_secret, \n",
      "            oauth_token=access_token_key, \n",
      "            oauth_token_secret=access_token_secret)"
     ],
     "language": "python",
     "metadata": {},
     "outputs": [],
     "prompt_number": 55
    },
    {
     "cell_type": "code",
     "collapsed": false,
     "input": [
      "search = tw.search(q=u'#tayyipistifa',\n",
      "                    locale='tr-tr',\n",
      "#                    lang='tr-tr',\n",
      "                    until='2013-12-31',\n",
      "#                   result_type='recent',\n",
      "                   count=500)"
     ],
     "language": "python",
     "metadata": {},
     "outputs": [],
     "prompt_number": 211
    },
    {
     "cell_type": "code",
     "collapsed": false,
     "input": [
      "#print search\n",
      "c = 0\n",
      "tweets = search['statuses']\n",
      "for tweet in tweets:\n",
      "    print tweet['created_at'], '\\n', tweet['id_str'], '\\n', tweet['text'], '\\n\\n\\n'\n",
      "    #print tweet\n",
      "    c += 1\n",
      "print c"
     ],
     "language": "python",
     "metadata": {},
     "outputs": [
      {
       "output_type": "stream",
       "stream": "stdout",
       "text": [
        "0\n"
       ]
      }
     ],
     "prompt_number": 212
    },
    {
     "cell_type": "code",
     "collapsed": false,
     "input": [
      "print tweet"
     ],
     "language": "python",
     "metadata": {},
     "outputs": [
      {
       "output_type": "stream",
       "stream": "stdout",
       "text": [
        "{u'contributors': None, u'truncated': False, u'text': u'\\u041a\\u0440\\u0430\\u0441\\u0430\\u0432\\u0430 ;) \\nRT @imyarek: Fapfap \\u0434\\u043d\\u044f \\u201c@Velohack: \\u0412\\u0435\\u043b\\u043e\\u0441\\u0438\\u043f\\u0435\\u0434 \\u0434\\u043d\\u044f #\\u0432\\u0435\\u043b\\u043e\\u0441\\u0438\\u043f\\u0435\\u0434\\u0434\\u043d\\u044f #\\u0432\\u0435\\u043b\\u043e\\u0441\\u0438\\u043f\\u0435\\u0434 #bicycle http://t.co/CgY3VmTk4s\\u201d (\\u0447\\u0435\\u0440\\u0435\\u0437 @ku_al) #OMG', u'in_reply_to_status_id': None, u'id': 574649020804694016L, u'favorite_count': 0, u'source': u'<a href=\"http://tapbots.com/tweetbot\" rel=\"nofollow\">Tweetbot for i\\u039fS</a>', u'retweeted': False, u'coordinates': None, u'entities': {u'symbols': [], u'user_mentions': [{u'id': 61174111, u'indices': [15, 23], u'id_str': u'61174111', u'screen_name': u'imyarek', u'name': u'Alexander Pavlichuk'}, {u'id': 2514769460L, u'indices': [37, 46], u'id_str': u'2514769460', u'screen_name': u'Velohack', u'name': u'Velohack'}, {u'id': 112654706, u'indices': [127, 133], u'id_str': u'112654706', u'screen_name': u'ku_al', u'name': u'Aleksandr'}], u'hashtags': [{u'indices': [62, 75], u'text': u'\\u0432\\u0435\\u043b\\u043e\\u0441\\u0438\\u043f\\u0435\\u0434\\u0434\\u043d\\u044f'}, {u'indices': [76, 86], u'text': u'\\u0432\\u0435\\u043b\\u043e\\u0441\\u0438\\u043f\\u0435\\u0434'}, {u'indices': [87, 95], u'text': u'bicycle'}, {u'indices': [135, 139], u'text': u'OMG'}], u'urls': [], u'media': [{u'source_user_id': 2514769460L, u'source_status_id_str': u'574605006294401024', u'expanded_url': u'http://twitter.com/Velohack/status/574605006294401024/photo/1', u'display_url': u'pic.twitter.com/CgY3VmTk4s', u'url': u'http://t.co/CgY3VmTk4s', u'media_url_https': u'https://pbs.twimg.com/media/B_loNXAWQAAlLVc.jpg', u'source_user_id_str': u'2514769460', u'source_status_id': 574605006294401024L, u'id_str': u'574605006189510656', u'sizes': {u'large': {u'h': 768, u'resize': u'fit', u'w': 594}, u'small': {u'h': 439, u'resize': u'fit', u'w': 340}, u'medium': {u'h': 768, u'resize': u'fit', u'w': 594}, u'thumb': {u'h': 150, u'resize': u'crop', u'w': 150}}, u'indices': [96, 118], u'type': u'photo', u'id': 574605006189510656L, u'media_url': u'http://pbs.twimg.com/media/B_loNXAWQAAlLVc.jpg'}]}, u'in_reply_to_screen_name': None, u'in_reply_to_user_id': None, u'retweet_count': 0, u'id_str': u'574649020804694016', u'favorited': False, u'user': {u'follow_request_sent': False, u'profile_use_background_image': True, u'profile_text_color': u'333333', u'default_profile_image': False, u'id': 2430936007L, u'profile_background_image_url_https': u'https://abs.twimg.com/images/themes/theme1/bg.png', u'verified': False, u'profile_location': None, u'profile_image_url_https': u'https://pbs.twimg.com/profile_images/557995347390128129/Lptp4dnv_normal.jpeg', u'profile_sidebar_fill_color': u'DDEEF6', u'entities': {u'url': {u'urls': [{u'url': u'https://t.co/JdJ8KpmHeS', u'indices': [0, 23], u'expanded_url': u'https://vk.com/id260159756', u'display_url': u'vk.com/id260159756'}]}, u'description': {u'urls': [{u'url': u'https://t.co/f7dDvjlhG8', u'indices': [44, 67], u'expanded_url': u'https://www.facebook.com/profile.php?id=100008824750610', u'display_url': u'facebook.com/profile.php?id\\u2026'}]}}, u'followers_count': 31, u'profile_sidebar_border_color': u'C0DEED', u'id_str': u'2430936007', u'profile_background_color': u'C0DEED', u'listed_count': 3, u'is_translation_enabled': False, u'utc_offset': 10800, u'statuses_count': 385, u'description': u'\\u0424\\u043e\\u0442\\u043e\\u0433\\u0440\\u0430\\u0444-\\u0430\\u043c\\u0430\\u0442\\u043e\\u0440, \\u043b\\u044e\\u0431\\u0438\\u0442\\u0435\\u043b\\u044c \\u043c\\u0443\\u0437\\u044b\\u043a\\u0438 \\u0438 \\u043a\\u0440\\u0430\\u0441\\u043e\\u0442\\u044b. https://t.co/f7dDvjlhG8', u'friends_count': 71, u'location': u'Vinnitsya', u'profile_link_color': u'0084B4', u'profile_image_url': u'http://pbs.twimg.com/profile_images/557995347390128129/Lptp4dnv_normal.jpeg', u'following': False, u'geo_enabled': True, u'profile_banner_url': u'https://pbs.twimg.com/profile_banners/2430936007/1421871471', u'profile_background_image_url': u'http://abs.twimg.com/images/themes/theme1/bg.png', u'name': u'Dmitriy Kuleshov', u'lang': u'ru', u'profile_background_tile': False, u'favourites_count': 38, u'screen_name': u'Mr_Barmagl0t', u'notifications': False, u'url': u'https://t.co/JdJ8KpmHeS', u'created_at': u'Sun Apr 06 19:48:37 +0000 2014', u'contributors_enabled': False, u'time_zone': u'Nairobi', u'protected': False, u'default_profile': True, u'is_translator': False}, u'geo': None, u'in_reply_to_user_id_str': None, u'possibly_sensitive': False, u'lang': u'ru', u'created_at': u'Sun Mar 08 19:12:57 +0000 2015', u'in_reply_to_status_id_str': None, u'place': None, u'metadata': {u'iso_language_code': u'ru', u'result_type': u'recent'}}\n"
       ]
      }
     ],
     "prompt_number": 88
    },
    {
     "cell_type": "code",
     "collapsed": false,
     "input": [],
     "language": "python",
     "metadata": {},
     "outputs": []
    }
   ],
   "metadata": {}
  }
 ]
}