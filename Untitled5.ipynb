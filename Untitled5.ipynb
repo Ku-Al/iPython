{
 "metadata": {
  "name": "",
  "signature": "sha256:c4ba73e1de9560cf5100ae5ec73e3cb241eb6236f35496746ebf2d3f4ba0e13b"
 },
 "nbformat": 3,
 "nbformat_minor": 0,
 "worksheets": [
  {
   "cells": [
    {
     "cell_type": "code",
     "collapsed": false,
     "input": [
      "def getTalk(type=\"shout\"):\n",
      "    \n",
      "    def shout(word=\"\u0434\u0430\"):\n",
      "        return word.capitalize() + \"!\"\n",
      "    \n",
      "    def whisper(word=\"\u0434\u0430\"):\n",
      "        return word.lower() + \"...\"\n",
      "    \n",
      "    if type == \"shout\":\n",
      "        return shout\n",
      "    else:\n",
      "        return whisper\n",
      "    \n",
      "talk = getTalk()\n",
      "print talk()\n",
      "print getTalk(\"whisper\")()\n",
      "print getTalk()()\n",
      "\n",
      "\n"
     ],
     "language": "python",
     "metadata": {},
     "outputs": [
      {
       "output_type": "stream",
       "stream": "stdout",
       "text": [
        "\u0434\u0430!\n",
        "\u0434\u0430...\n",
        "\u0434\u0430!\n"
       ]
      }
     ],
     "prompt_number": 9
    },
    {
     "cell_type": "code",
     "collapsed": false,
     "input": [],
     "language": "python",
     "metadata": {},
     "outputs": []
    }
   ],
   "metadata": {}
  }
 ]
}