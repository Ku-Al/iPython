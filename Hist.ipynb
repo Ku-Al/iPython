{
 "metadata": {
  "name": "",
  "signature": "sha256:ad96fb822d2f6108f2da6cee92684b781995ecd5fb7c4e7621f208fee4b5b000"
 },
 "nbformat": 3,
 "nbformat_minor": 0,
 "worksheets": [
  {
   "cells": [
    {
     "cell_type": "code",
     "collapsed": false,
     "input": [
      "%pylab inline\n",
      "import bisect\n",
      "import csv\n",
      "from collections import defaultdict\n",
      "import pandas as pd\n",
      "%load_ext cythonmagic\n",
      "\n",
      "LENGTH_FILE = \"features/length.csv\"\n",
      "\n",
      "class Driver(object):\n",
      "    def __init__(self):\n",
      "        self.trips = {}  # keys - trips numbers, values - lengths\n",
      "        self.trip_lengths = []  # sorted list of trip lengths\n",
      "\n",
      "    def add_trip(self, trip_number, trip_length):\n",
      "        \"\"\"\n",
      "        Adds trip to driver.\n",
      "        :param trip_number str: number of the trip\n",
      "        :param trip_length float: length of the trip\n",
      "        \"\"\"\n",
      "        self.trips[trip_number] = trip_length\n",
      "        bisect.insort(self.trip_lengths, trip_length)\n",
      "        \n",
      "def iterate_drivers(dr):\n",
      "    with open(LENGTH_FILE, 'r') as f:\n",
      "        reader = csv.reader(f)\n",
      "        reader.next()\n",
      "        for line in reader:\n",
      "            driver_trip, length = line\n",
      "            length = float(length)\n",
      "            driver, trip = driver_trip.split('_')\n",
      "            if dr == driver:\n",
      "                #print '{} {}'.format(driver, trip)\n",
      "                yield driver, trip, length\n",
      "\n",
      "\n",
      "def load_drivers(dr):\n",
      "    # dict of drivers\n",
      "    drivers = Driver()\n",
      "    for driver, trip, length in iterate_drivers(dr):\n",
      "        drivers.add_trip(trip, length)\n",
      "    return drivers\n",
      "\n",
      "        \n",
      "def main():\n",
      "    t_n = raw_input(\"Enter Driver:\")\n",
      "    drivers = load_drivers(t_n)\n",
      "    #plot(drivers[0].trips.keys(), drivers[0].trips.values())\n",
      "    #print drivers[0].trips.values()\n",
      "    pd.set_option('display.mpl_style', 'default') \n",
      "    pd.set_option('display.line_width', 5000) \n",
      "    fig = plt.figure(figsize(10, 10), dpi=100)\n",
      "    fig, axes = plt.subplots(figsize=(20,10))\n",
      "    axes.hist(drivers.trips.values())\n",
      "    fig.savefig(\"hist_{}.png\".format(t_n))\n",
      "    \n",
      "if __name__ == \"__main__\":\n",
      "    main()\n"
     ],
     "language": "python",
     "metadata": {},
     "outputs": [
      {
       "output_type": "stream",
       "stream": "stdout",
       "text": [
        "Populating the interactive namespace from numpy and matplotlib\n"
       ]
      },
      {
       "name": "stdout",
       "output_type": "stream",
       "stream": "stdout",
       "text": [
        "Enter Driver:3\n"
       ]
      },
      {
       "metadata": {},
       "output_type": "display_data",
       "text": [
        "<matplotlib.figure.Figure at 0xb7cfef0>"
       ]
      },
      {
       "metadata": {},
       "output_type": "display_data",
       "png": "[encoded data removed]",
       "text": [
        "<matplotlib.figure.Figure at 0xb7dc9b0>"
       ]
      }
     ],
     "prompt_number": 1
    },
    {
     "cell_type": "code",
     "collapsed": false,
     "input": [
      "drivers[1].head"
     ],
     "language": "python",
     "metadata": {},
     "outputs": [
      {
       "ename": "NameError",
       "evalue": "name 'drivers' is not defined",
       "output_type": "pyerr",
       "traceback": [
        "\u001b[1;31m---------------------------------------------------------------------------\u001b[0m\n\u001b[1;31mNameError\u001b[0m                                 Traceback (most recent call last)",
        "\u001b[1;32m<ipython-input-2-47f6010da3bf>\u001b[0m in \u001b[0;36m<module>\u001b[1;34m()\u001b[0m\n\u001b[1;32m----> 1\u001b[1;33m \u001b[0mdrivers\u001b[0m\u001b[1;33m[\u001b[0m\u001b[1;36m1\u001b[0m\u001b[1;33m]\u001b[0m\u001b[1;33m.\u001b[0m\u001b[0mhead\u001b[0m\u001b[1;33m\u001b[0m\u001b[0m\n\u001b[0m",
        "\u001b[1;31mNameError\u001b[0m: name 'drivers' is not defined"
       ]
      }
     ],
     "prompt_number": 2
    },
    {
     "cell_type": "code",
     "collapsed": false,
     "input": [],
     "language": "python",
     "metadata": {},
     "outputs": []
    }
   ],
   "metadata": {}
  }
 ]
}