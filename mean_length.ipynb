{
 "metadata": {
  "name": "",
  "signature": "sha256:9d7a7c3def439d1231b325040ceebd718534cf8010bc4a49ba08ca0c22e8af3d"
 },
 "nbformat": 3,
 "nbformat_minor": 0,
 "worksheets": [
  {
   "cells": [
    {
     "cell_type": "code",
     "collapsed": false,
     "input": [
      "import bisect\n",
      "from collections import defaultdict\n",
      "from numpy import median\n",
      "import pandas as pd\n",
      "%pylab inline\n",
      "\n",
      "LENGTH_FILE = \"features/length.csv\"\n",
      "VELOCITY_FILE = \"../data/features/velocity.csv\"\n"
     ],
     "language": "python",
     "metadata": {},
     "outputs": [
      {
       "output_type": "stream",
       "stream": "stdout",
       "text": [
        "Populating the interactive namespace from numpy and matplotlib\n"
       ]
      }
     ],
     "prompt_number": 16
    },
    {
     "cell_type": "code",
     "collapsed": false,
     "input": [
      "dr = pd.read_csv(LENGTH_FILE)\n",
      "driver = pd.DataFrame(dr.driver_trip.str.split('_').tolist(), columns = ['driver', 'trip'])\n",
      "driver['length']=dr.length\n",
      "#driver = pd.DataFrame(dr.driver_trip.str.extract('(?P<driver>.+)_(?P<trip>).+'))\n",
      "print driver.head()\n",
      "    \n",
      "grouped = driver.groupby('driver')\n",
      "print grouped.mean()\n",
      "#vpd = pd.DataFrame(grouped.length.mean(), columns = ['mean'])\n",
      "#print vpd.head(100)\n",
      "    \n"
     ],
     "language": "python",
     "metadata": {},
     "outputs": [
      {
       "output_type": "stream",
       "stream": "stdout",
       "text": [
        "  driver trip        length\n",
        "0      1    1  14255.435751\n",
        "1      1   10    836.154613\n",
        "2      1  100   1539.070473\n",
        "3      1  101  22004.973802\n",
        "4      1  102   9434.573406\n",
        "\n",
        "[5 rows x 3 columns]\n",
        "              length\n",
        "driver              \n",
        "1        4210.466727\n",
        "10       5507.943843\n",
        "100      6207.161427\n",
        "1000     4709.201575\n",
        "1001     5958.644479\n",
        "1002     5810.106345\n",
        "1003    10033.020879\n",
        "1004     2787.802433\n",
        "1005     8624.833201\n",
        "1006     7347.437531\n",
        "1007     7512.948708\n",
        "1008     6711.497216\n",
        "1009    10279.514558\n",
        "101      9107.444820\n",
        "1010     7093.260590\n",
        "1011     7202.513630\n",
        "1012     8225.975421\n",
        "1013     4468.155058\n",
        "1015     4810.295462\n",
        "1016     4013.361905\n",
        "1017     5049.897626\n",
        "1018     6779.843718\n",
        "102      5011.754593\n",
        "1020     4033.298307\n",
        "1021     3858.904972\n",
        "1022     5535.810548\n",
        "1023    11232.415327\n",
        "1024     3573.882411\n",
        "1025     7516.714209\n",
        "1026     4904.558786\n",
        "1027     6029.907763\n",
        "1029    10483.953274\n",
        "103      2965.960633\n",
        "1030     5696.026185\n",
        "1031     7495.237269\n",
        "1032     4345.329524\n",
        "1033     3662.990857\n",
        "1035     4351.558938\n",
        "1036     6873.349137\n",
        "1037     3923.369949\n",
        "1038     7793.672063\n",
        "104      4412.536641\n",
        "1040     2814.405888\n",
        "1041     3866.956819\n",
        "1042     9183.131439\n",
        "1043     6530.056878\n",
        "1044     5040.241407\n",
        "1045     4540.898015\n",
        "1046    11781.958946\n",
        "1047     4815.175856\n",
        "1048     5625.542710\n",
        "1049     6505.244554\n",
        "105      8555.197819\n",
        "1050     5186.724870\n",
        "1051     5987.123813\n",
        "1052     5730.559874\n",
        "1053     7727.966049\n",
        "1054     4403.546049\n",
        "1055     3639.171087\n",
        "1056     3227.456172\n",
        "                 ...\n",
        "\n",
        "[2736 rows x 1 columns]"
       ]
      },
      {
       "output_type": "stream",
       "stream": "stdout",
       "text": [
        "\n"
       ]
      }
     ],
     "prompt_number": 92
    },
    {
     "cell_type": "code",
     "collapsed": false,
     "input": [
      "dr.head()"
     ],
     "language": "python",
     "metadata": {},
     "outputs": [
      {
       "ename": "NameError",
       "evalue": "name 'dr' is not defined",
       "output_type": "pyerr",
       "traceback": [
        "\u001b[1;31m---------------------------------------------------------------------------\u001b[0m\n\u001b[1;31mNameError\u001b[0m                                 Traceback (most recent call last)",
        "\u001b[1;32m<ipython-input-8-b5e095a03c98>\u001b[0m in \u001b[0;36m<module>\u001b[1;34m()\u001b[0m\n\u001b[1;32m----> 1\u001b[1;33m \u001b[0mdr\u001b[0m\u001b[1;33m.\u001b[0m\u001b[0mhead\u001b[0m\u001b[1;33m(\u001b[0m\u001b[1;33m)\u001b[0m\u001b[1;33m\u001b[0m\u001b[0m\n\u001b[0m",
        "\u001b[1;31mNameError\u001b[0m: name 'dr' is not defined"
       ]
      }
     ],
     "prompt_number": 8
    },
    {
     "cell_type": "code",
     "collapsed": false,
     "input": [],
     "language": "python",
     "metadata": {},
     "outputs": []
    }
   ],
   "metadata": {}
  }
 ]
}