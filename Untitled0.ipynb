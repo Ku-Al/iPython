{
 "metadata": {
  "name": "",
  "signature": "sha256:7c2ba8060e7f9bd4bc62359445d7dafa9d35fee2bf0d8660d50a380dc3d167a4"
 },
 "nbformat": 3,
 "nbformat_minor": 0,
 "worksheets": [
  {
   "cells": [
    {
     "cell_type": "code",
     "collapsed": false,
     "input": [
      "import re\n",
      "s = \"Comment: ollaphoto said #\u0441\u043a\u043e\u0440\u043e \u043d\u043e\u0432\u044b\u0439 \u0433\u043e\u0434. \u041f\u043e\u0440\u0430 \u0433\u043e\u0442\u043e\u0432\u0438\u0442\u044c\u0441\u044f;)#pretty#beauty #wow #girl #portret #newyear #winter #party#ollaphoto #kievphotographer #odessaphotographer #kiev #odessa #photoset #\u0434\u0435\u0432\u0443\u0448\u043a\u0430 #\u043a\u0440\u0430\u0441\u043e\u0442\u043a\u0430 #\u043a\u0440\u0430\u0441\u0430\u0432\u0438\u0446\u0430 #\u043c\u043e\u0434\u043d\u0438\u0446\u0430 #\u0444\u043e\u0442\u043e\u0441\u0435\u0441\u0441\u0438\u044f #\u0444\u043e\u0442\u043e\u0441\u0435\u0441\u0441\u0438\u044f\u043a\u0438\u0435\u0432 #\u0444\u043e\u0442\u043e\u0441\u0435\u0441\u0441\u0438\u044f\u043e\u0434\u0435\u0441\u0441\u0430 #\u0444\u043e\u0442\u043e\u0433\u0440\u0430\u0444\u043a\u0438\u0435\u0432 #\u0444\u043e\u0442\u043e\u0433\u0440\u0430\u0444\u043e\u0434\u0435\u0441\u0441\u0430 #\u043e\u0434\u0435\u0441\u0441\u0430 #\u043a\u0438\u0435\u0432 likes: \"\n",
      "print s\n",
      "s1 = re.sub(r'([^\\s])#', r'\\1 #', s)\n",
      "print s1\n"
     ],
     "language": "python",
     "metadata": {},
     "outputs": [
      {
       "output_type": "stream",
       "stream": "stdout",
       "text": [
        "Comment: ollaphoto said #\u0441\u043a\u043e\u0440\u043e \u043d\u043e\u0432\u044b\u0439 \u0433\u043e\u0434. \u041f\u043e\u0440\u0430 \u0433\u043e\u0442\u043e\u0432\u0438\u0442\u044c\u0441\u044f;)#pretty#beauty #wow #girl #portret #newyear #winter #party#ollaphoto #kievphotographer #odessaphotographer #kiev #odessa #photoset #\u0434\u0435\u0432\u0443\u0448\u043a\u0430 #\u043a\u0440\u0430\u0441\u043e\u0442\u043a\u0430 #\u043a\u0440\u0430\u0441\u0430\u0432\u0438\u0446\u0430 #\u043c\u043e\u0434\u043d\u0438\u0446\u0430 #\u0444\u043e\u0442\u043e\u0441\u0435\u0441\u0441\u0438\u044f #\u0444\u043e\u0442\u043e\u0441\u0435\u0441\u0441\u0438\u044f\u043a\u0438\u0435\u0432 #\u0444\u043e\u0442\u043e\u0441\u0435\u0441\u0441\u0438\u044f\u043e\u0434\u0435\u0441\u0441\u0430 #\u0444\u043e\u0442\u043e\u0433\u0440\u0430\u0444\u043a\u0438\u0435\u0432 #\u0444\u043e\u0442\u043e\u0433\u0440\u0430\u0444\u043e\u0434\u0435\u0441\u0441\u0430 #\u043e\u0434\u0435\u0441\u0441\u0430 #\u043a\u0438\u0435\u0432 likes: \n",
        "Comment: ollaphoto said #\u0441\u043a\u043e\u0440\u043e \u043d\u043e\u0432\u044b\u0439 \u0433\u043e\u0434. \u041f\u043e\u0440\u0430 \u0433\u043e\u0442\u043e\u0432\u0438\u0442\u044c\u0441\u044f;) #pretty #beauty #wow #girl #portret #newyear #winter #party #ollaphoto #kievphotographer #odessaphotographer #kiev #odessa #photoset #\u0434\u0435\u0432\u0443\u0448\u043a\u0430 #\u043a\u0440\u0430\u0441\u043e\u0442\u043a\u0430 #\u043a\u0440\u0430\u0441\u0430\u0432\u0438\u0446\u0430 #\u043c\u043e\u0434\u043d\u0438\u0446\u0430 #\u0444\u043e\u0442\u043e\u0441\u0435\u0441\u0441\u0438\u044f #\u0444\u043e\u0442\u043e\u0441\u0435\u0441\u0441\u0438\u044f\u043a\u0438\u0435\u0432 #\u0444\u043e\u0442\u043e\u0441\u0435\u0441\u0441\u0438\u044f\u043e\u0434\u0435\u0441\u0441\u0430 #\u0444\u043e\u0442\u043e\u0433\u0440\u0430\u0444\u043a\u0438\u0435\u0432 #\u0444\u043e\u0442\u043e\u0433\u0440\u0430\u0444\u043e\u0434\u0435\u0441\u0441\u0430 #\u043e\u0434\u0435\u0441\u0441\u0430 #\u043a\u0438\u0435\u0432 likes: \n"
       ]
      }
     ],
     "prompt_number": 9
    },
    {
     "cell_type": "code",
     "collapsed": false,
     "input": [
      "x = { 'chuck' : 1 , 'fred' : 42, 'jan': 100}\n",
      "y = x.items()"
     ],
     "language": "python",
     "metadata": {},
     "outputs": [],
     "prompt_number": 1
    },
    {
     "cell_type": "code",
     "collapsed": false,
     "input": [
      "print y\n"
     ],
     "language": "python",
     "metadata": {},
     "outputs": [
      {
       "output_type": "stream",
       "stream": "stdout",
       "text": [
        "[('jan', 100), ('chuck', 1), ('fred', 42)]\n"
       ]
      }
     ],
     "prompt_number": 2
    },
    {
     "cell_type": "code",
     "collapsed": false,
     "input": [
      "x = (5, 1, 3)\n",
      "if (6, 0, 0)  > x : print 'True'"
     ],
     "language": "python",
     "metadata": {},
     "outputs": [
      {
       "output_type": "stream",
       "stream": "stdout",
       "text": [
        "True\n"
       ]
      }
     ],
     "prompt_number": 7
    },
    {
     "cell_type": "code",
     "collapsed": false,
     "input": [
      "days = ('Mon', 'Tue', 'Wed', 'Thu', 'Fri', 'Sat', 'Sun')\n",
      "print days[2]\n"
     ],
     "language": "python",
     "metadata": {},
     "outputs": [
      {
       "output_type": "stream",
       "stream": "stdout",
       "text": [
        "Wed\n"
       ]
      }
     ],
     "prompt_number": 9
    },
    {
     "cell_type": "code",
     "collapsed": false,
     "input": [],
     "language": "python",
     "metadata": {},
     "outputs": []
    }
   ],
   "metadata": {}
  }
 ]
}